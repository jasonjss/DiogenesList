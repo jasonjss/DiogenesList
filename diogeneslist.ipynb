{
  "nbformat": 4,
  "nbformat_minor": 0,
  "metadata": {
    "colab": {
      "name": "diogeneslist.ipynb",
      "provenance": [],
      "collapsed_sections": [
        "AJd_g00EIj-7",
        "ojyTJYBoI84K"
      ],
      "toc_visible": true
    },
    "kernelspec": {
      "name": "python3",
      "display_name": "Python 3"
    }
  },
  "cells": [
    {
      "cell_type": "code",
      "metadata": {
        "id": "qT9Fp_H5IVcT"
      },
      "source": [
        ""
      ],
      "execution_count": null,
      "outputs": []
    },
    {
      "cell_type": "markdown",
      "metadata": {
        "id": "AJd_g00EIj-7"
      },
      "source": [
        "# Mount Google Drive"
      ]
    },
    {
      "cell_type": "code",
      "metadata": {
        "id": "Ygc2wdCPIpDQ",
        "cellView": "both",
        "outputId": "59c1cae0-ba0d-4700-cffe-98f3f4ad915b",
        "colab": {
          "base_uri": "https://localhost:8080/",
          "height": 34
        }
      },
      "source": [
        "#@title <- Run this code to Mount Your Google Drive\n",
        "from google.colab import drive\n",
        "drive.mount('/content/drive')"
      ],
      "execution_count": null,
      "outputs": [
        {
          "output_type": "stream",
          "text": [
            "Mounted at /content/drive\n"
          ],
          "name": "stdout"
        }
      ]
    },
    {
      "cell_type": "markdown",
      "metadata": {
        "id": "ojyTJYBoI84K"
      },
      "source": [
        "# Clone gdrive-index Repository"
      ]
    },
    {
      "cell_type": "code",
      "metadata": {
        "id": "vOp38dibJER8",
        "cellView": "both",
        "outputId": "0ecdc9dd-76d7-4f00-aed7-4f3bd798e40a",
        "colab": {
          "base_uri": "https://localhost:8080/",
          "height": 207
        }
      },
      "source": [
        "#@title <- Run this code to Clone gdrive-index Repo\n",
        "!git clone https://github.com/jasonjss/DiogenesList.git\n",
        "!pip install colorama"
      ],
      "execution_count": 1,
      "outputs": [
        {
          "output_type": "stream",
          "text": [
            "Cloning into 'DiogenesList'...\n",
            "remote: Enumerating objects: 13, done.\u001b[K\n",
            "remote: Counting objects: 100% (13/13), done.\u001b[K\n",
            "remote: Compressing objects: 100% (10/10), done.\u001b[K\n",
            "remote: Total 26 (delta 3), reused 10 (delta 3), pack-reused 13\u001b[K\n",
            "Unpacking objects: 100% (26/26), done.\n",
            "Collecting colorama\n",
            "  Downloading https://files.pythonhosted.org/packages/c9/dc/45cdef1b4d119eb96316b3117e6d5708a08029992b2fee2c143c7a0a5cc5/colorama-0.4.3-py2.py3-none-any.whl\n",
            "Installing collected packages: colorama\n",
            "Successfully installed colorama-0.4.3\n"
          ],
          "name": "stdout"
        }
      ]
    },
    {
      "cell_type": "markdown",
      "metadata": {
        "id": "vAN_RT9-YxUS"
      },
      "source": [
        "# Generate .html file"
      ]
    },
    {
      "cell_type": "code",
      "metadata": {
        "id": "gMM0g6rnY4Si",
        "cellView": "both",
        "outputId": "cbde0fa8-dc53-4126-adfa-1c1b677030c1",
        "colab": {
          "base_uri": "https://localhost:8080/",
          "height": 204
        }
      },
      "source": [
        "\n",
        "import os\n",
        "import sys\n",
        "import re\n",
        "from os.path import getsize\n",
        "from IPython.display import clear_output\n",
        "from time import sleep\n",
        "from colorama import Fore\n",
        "from datetime import datetime, timezone, timedelta\n",
        "\n",
        "\n",
        "# global variables definition\n",
        "appName = \"DiogenesList\"\n",
        "appVer = \"1.0\"\n",
        "timezoneset = timezone(timedelta(hours=8))\n",
        "genDate = datetime.now(timezoneset).strftime(\"%Y/%m/%d\")\n",
        "genTime = datetime.now(timezoneset).strftime(\"%H:%M\")\n",
        "appLink = \"https://github.com/ZapperDJ/DiogenesList\"\n",
        "dirData = \"\"\n",
        "numFiles=0 \n",
        "numDirs=0 \n",
        "grandTotalSize=0\n",
        "linkFiles=\"false\" # file linking not yet implemented\n",
        "linkroot = \"\"\n",
        "\n",
        "\n",
        "# functions definition\n",
        "def generateDirArray(dirToScan):\n",
        "    global dirData\n",
        "    global numFiles\n",
        "    global numDirs\n",
        "    global grandTotalSize\n",
        "    # assing a number identifier to each directory\n",
        "    i = 1\n",
        "    dirIDsDictionary = {}\n",
        "    dirIDsDictionary[dirToScan] = 0\n",
        "\n",
        "    # initilize array to hold all dir data, dimensioning it to hold the total number of dirs\n",
        "    allDirArray=[0]\n",
        "    starttime = datetime.now(timezoneset).strftime(\"%Y/%m/%d %H:%M:%S\")\n",
        "\n",
        "    # traverse the directory tree\n",
        "    for currentDir, dirs, files in os.walk(dirToScan):\n",
        "        dirs[:] = [ di for di in dirs if not di.startswith(\".\") ]\n",
        "        files[:] = [ fi for fi in files if not fi.startswith(\".\") ]\n",
        "        if os.path.basename(currentDir).startswith(\".\"):\n",
        "            continue\n",
        "        dirs.sort()\n",
        "        # create the list of directory IDs correspondent to the subdirs present on the current directory\n",
        "        # this acts as a list of links to the subdirectories on the javascript code\n",
        "        dirLinks = ''\n",
        "        for dir in dirs:\n",
        "            dirIDsDictionary[currentDir+'/'+dir] = i\n",
        "            numDirs = numDirs + 1\n",
        "            dirLinks = dirLinks + str(i) + '*'\n",
        "            i = i + 1\n",
        "            allDirArray.append([\"\",0,\"\"])\n",
        "        currentDirId=dirIDsDictionary[currentDir]\n",
        "        currentDirArray=[]  # array to hold all current dir data\n",
        "        currentDirModifiedTime = datetime.fromtimestamp(os.path.getmtime(currentDir))\n",
        "        currentDirModifiedTime = currentDirModifiedTime.strftime(\"%Y/%m/%d %H:%M\")\n",
        "        # currentDirFixed = re.sub('.*//.*/','',currentDir)\n",
        "        # currentDirFixed = re.sub('.*//','',currentDirFixed)\n",
        "        currentDirFixed = currentDir.replace(\"\\\"\",\"\\\\\\\"\")\n",
        "        currentDirFixed = currentDirFixed.replace(pathToIndex,os.path.basename(pathToIndex))    # replace / with \\\\ in the dir path (necessary for javascript functions to work properly\n",
        "        currentDirArray.append(currentDirFixed+'*0*'+currentDirModifiedTime)   # append directory info to currentDirArray \n",
        "        totalSize = 0\n",
        "        for file in files:\n",
        "            numFiles = numFiles + 1\n",
        "            fileSize = getsize(currentDir+'/'+file)\n",
        "            totalSize = totalSize + fileSize\n",
        "            grandTotalSize = grandTotalSize + fileSize\n",
        "            fileModifiedTime = datetime.fromtimestamp(os.path.getmtime(currentDir+'/'+file))\n",
        "            fileModifiedTime = fileModifiedTime.strftime(\"%Y/%m/%d %H:%M\")\n",
        "            fileFixed = file.replace(\"\\\"\",\"\\\\\\\"\")\n",
        "            currentDirArray.append(fileFixed+'*'+str(fileSize)+'*'+fileModifiedTime)   # append file info to currentDirArray\n",
        "            clear_output(wait=True)\n",
        "            print(Fore.RED + 'Start time: ' + starttime)\n",
        "            print(Fore.RED + '\\nScanning...   Directory['+ str(numDirs) +']  File['+ str(numFiles) + ']')\n",
        "            print(Fore.YELLOW + 'Directory : '+ Fore.BLUE + currentDirFixed +Fore.WHITE)\n",
        "            print(Fore.LIGHTGREEN_EX + 'File : '+ Fore.CYAN + fileFixed +Fore.WHITE)\n",
        "            print('\\n')\n",
        "        currentDirArray.append(totalSize)   # append total file size to currentDirArray\n",
        "        dirLinks = dirLinks[:-1]    # remove last *\n",
        "        currentDirArray.append(dirLinks)\n",
        "        allDirArray[currentDirId]=currentDirArray   # store currentDirArray on the correspondent position of allDirArray\n",
        "\n",
        "\n",
        "    # from allDirArray, generate the text to replace [DIR DATA] on HTML file\n",
        "    #\n",
        "    # dirData format:\n",
        "    #\n",
        "    #   dirs[DIRECTORY_ID] =\n",
        "    #   \"DIRECTORY_PATH*0*MODIFIED_TIME\",\n",
        "    #   \"FILENAME*FILESIZE*MODIFIED_TIME\",\n",
        "    #   ...\n",
        "    #   TOTAL_FILE_SIZE,\n",
        "    #   \"SUBDIRECTORY_ID*SUBDIRECTORY_ID*SUBDIRECTORY_ID*...\",\n",
        "    #   ];\n",
        "\n",
        "    for d in range(len(allDirArray)):\n",
        "        dirData=dirData+\"dirs[\"+str(d)+\"] = [\\n\"\n",
        "        for g in range(len(allDirArray[d])):\n",
        "            if type(allDirArray[d][g]) == int:\n",
        "                dirData=dirData+str(allDirArray[d][g])+\",\\n\"\n",
        "            else:\n",
        "                dirData=dirData+'\"'+allDirArray[d][g]+'\",\\n'\n",
        "        dirData=dirData+\"];\\n\"\n",
        "        dirData=dirData+\"\\n\"\n",
        "\n",
        "    return \n",
        "\n",
        "\n",
        "\n",
        "def generateHTML(appName,appVer,genDate,genTime,title,filename,appLink,numFiles,numDirs,grandTotalSize,linkFiles,linkroot,sourceroot,dirData):\n",
        "    print(Fore.RED + 'Output [ ' + filename + '.html ] ...   '+ datetime.now(timezoneset).strftime(\"%Y/%m/%d %H:%M:%S\") +'\\n')\n",
        "    templateFile = open('DiogenesList/template.html', 'r')\n",
        "    outputFile = open(filename+'.html', 'w')\n",
        "    for line in templateFile:\n",
        "        modifiedLine = line\n",
        "        modifiedLine = modifiedLine.replace('[APP NAME]', appName)\n",
        "        modifiedLine = modifiedLine.replace('[APP VER]', appVer)\n",
        "        modifiedLine = modifiedLine.replace('[GEN DATE]', genDate)\n",
        "        modifiedLine = modifiedLine.replace('[GEN TIME]', genTime)\n",
        "        modifiedLine = modifiedLine.replace('[TITLE]', title)\n",
        "        modifiedLine = modifiedLine.replace('[APP LINK]', appLink)\n",
        "        modifiedLine = modifiedLine.replace('[NUM FILES]', str(numFiles))\n",
        "        modifiedLine = modifiedLine.replace('[NUM DIRS]', str(numDirs))\n",
        "        modifiedLine = modifiedLine.replace('[TOT SIZE]', str(grandTotalSize))\n",
        "        modifiedLine = modifiedLine.replace('[LINK FILES]', linkFiles)\n",
        "        modifiedLine = modifiedLine.replace('[LINK PROTOCOL]', \"\")\n",
        "        modifiedLine = modifiedLine.replace('[LINK ROOT]', linkroot)\n",
        "        modifiedLine = modifiedLine.replace('[SOURCE ROOT]', sourceroot)\n",
        "        modifiedLine = modifiedLine.replace('[DIR DATA]', dirData)\n",
        "        outputFile.write(modifiedLine)\n",
        "    templateFile.close()\n",
        "    outputFile.close()\n",
        "    print(Fore.RED + 'OK   '+ datetime.now(timezoneset).strftime(\"%Y/%m/%d %H:%M:%S\") +'\\n')\n",
        "\t\n",
        "\n",
        "\n",
        "\n",
        "\n",
        "# main program start point\n",
        "if len(sys.argv) < 1:\t# check if required arguments are supplied\n",
        "    print (\"Missing arguments. This tool should be used as follows:\")\n",
        "    print (\"\tdiogeneslist pathToIndex outputFileName title website\")\n",
        "else:\n",
        "    inputtext = input(\"Copy & Paste : path of Folder you want to Index : \")\n",
        "    if not inputtext:\n",
        "        print(\"Need directory\")\n",
        "        sys.exit()\n",
        "    pathToIndex = str(inputtext)\n",
        "    inputtext = input(\"filename (use data if empty):\")\n",
        "    if not inputtext:\n",
        "        filename = str(datetime.now(timezoneset).strftime(\"%Y%m%d-%H%M%S\"))\n",
        "    else:\n",
        "        filename = str(inputtext)\n",
        "    inputtext = input(\"title (use data if empty):\")\n",
        "    if not inputtext:\n",
        "        title = str(datetime.now(timezoneset).strftime(\"%Y%m%d-%H%M%S\"))\n",
        "    else:\n",
        "        title = str(inputtext)\n",
        "    inputtext = input(\"website prefix (option):\")\n",
        "    if not inputtext:\n",
        "        linkFiles = \"false\"\n",
        "    else:\n",
        "        linkroot = str(inputtext)\n",
        "        linkFiles = \"true\"\n",
        "\n",
        "    sourceroot = os.path.basename(os.path.normpath(pathToIndex))\n",
        "    print(\"Processing....\")\n",
        "    if os.path.exists(pathToIndex):\t# check if the specified directory exists\n",
        "        generateDirArray(pathToIndex)\n",
        "        generateHTML(appName,appVer,genDate,genTime,title,filename,appLink,numFiles,numDirs,grandTotalSize,linkFiles,linkroot,sourceroot,dirData)\n",
        "    else:\n",
        "        print (\"The specified directory doesn't exist\")\n"
      ],
      "execution_count": null,
      "outputs": [
        {
          "output_type": "stream",
          "text": [
            "\u001b[31mStart time: 2020/09/21 15:06:30\n",
            "\u001b[31m\n",
            "Scanning...   Directory[0]  File[6]\n",
            "\u001b[33mDirectory : \u001b[34msample_data\u001b[37m\n",
            "\u001b[92mFile : \u001b[36mcalifornia_housing_train.csv\u001b[37m\n",
            "\n",
            "\n",
            "\u001b[31mOutput [ 20200921-150627.html ] ...   2020/09/21 15:06:30\n",
            "\n",
            "\u001b[31mOK   2020/09/21 15:06:30\n",
            "\n"
          ],
          "name": "stdout"
        }
      ]
    }
  ]
}